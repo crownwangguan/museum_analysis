{
 "cells": [
  {
   "cell_type": "code",
   "execution_count": 1,
   "metadata": {
    "scrolled": true
   },
   "outputs": [],
   "source": [
    "from pyspark import SparkConf, SparkContext\n",
    "from pyspark.sql import SQLContext\n",
    "from pyspark.ml.feature import VectorAssembler\n",
    "from pyspark.ml.regression import LinearRegression\n",
    "from pyspark.sql.types import IntegerType\n",
    "from pyspark.sql.types import DoubleType\n",
    "\n",
    "conf = SparkConf().set(\"spark.jars\", \"./sqlite-jdbc-3.8.6.jar\")\n",
    "sc= SparkContext(conf=conf)\n",
    "sqlContext = SQLContext(sc)"
   ]
  },
  {
   "cell_type": "code",
   "execution_count": 2,
   "metadata": {},
   "outputs": [],
   "source": [
    "city_df = sqlContext.read.format('jdbc').options(url='jdbc:sqlite:city.sqlite',dbtable='cities',driver=\"org.sqlite.JDBC\").load()\n",
    "museum_df = sqlContext.read.format('jdbc').options(url='jdbc:sqlite:museum.sqlite',dbtable='museums',driver=\"org.sqlite.JDBC\").load()\n"
   ]
  },
  {
   "cell_type": "code",
   "execution_count": 3,
   "metadata": {},
   "outputs": [
    {
     "data": {
      "text/plain": [
       "DataFrame[index: decimal(20,0), museum_name: string, city: string, nb_visitors: decimal(20,0), reported_year: decimal(20,0)]"
      ]
     },
     "execution_count": 3,
     "metadata": {},
     "output_type": "execute_result"
    }
   ],
   "source": [
    "city_df.cache()\n",
    "museum_df.cache()"
   ]
  },
  {
   "cell_type": "code",
   "execution_count": 4,
   "metadata": {},
   "outputs": [
    {
     "data": {
      "text/html": [
       "<div>\n",
       "<style scoped>\n",
       "    .dataframe tbody tr th:only-of-type {\n",
       "        vertical-align: middle;\n",
       "    }\n",
       "\n",
       "    .dataframe tbody tr th {\n",
       "        vertical-align: top;\n",
       "    }\n",
       "\n",
       "    .dataframe thead th {\n",
       "        text-align: right;\n",
       "    }\n",
       "</style>\n",
       "<table border=\"1\" class=\"dataframe\">\n",
       "  <thead>\n",
       "    <tr style=\"text-align: right;\">\n",
       "      <th></th>\n",
       "      <th>0</th>\n",
       "      <th>1</th>\n",
       "      <th>2</th>\n",
       "      <th>3</th>\n",
       "      <th>4</th>\n",
       "    </tr>\n",
       "  </thead>\n",
       "  <tbody>\n",
       "    <tr>\n",
       "      <th>summary</th>\n",
       "      <td>count</td>\n",
       "      <td>mean</td>\n",
       "      <td>stddev</td>\n",
       "      <td>min</td>\n",
       "      <td>max</td>\n",
       "    </tr>\n",
       "    <tr>\n",
       "      <th>index</th>\n",
       "      <td>1142</td>\n",
       "      <td>570.5000</td>\n",
       "      <td>329.81130969085945</td>\n",
       "      <td>0</td>\n",
       "      <td>1141</td>\n",
       "    </tr>\n",
       "    <tr>\n",
       "      <th>city</th>\n",
       "      <td>1142</td>\n",
       "      <td>None</td>\n",
       "      <td>None</td>\n",
       "      <td>Aba</td>\n",
       "      <td>Zurich</td>\n",
       "    </tr>\n",
       "    <tr>\n",
       "      <th>population</th>\n",
       "      <td>1142</td>\n",
       "      <td>1908883.8870</td>\n",
       "      <td>3064085.951979667</td>\n",
       "      <td>825</td>\n",
       "      <td>37393129</td>\n",
       "    </tr>\n",
       "  </tbody>\n",
       "</table>\n",
       "</div>"
      ],
      "text/plain": [
       "                0             1                   2    3         4\n",
       "summary     count          mean              stddev  min       max\n",
       "index        1142      570.5000  329.81130969085945    0      1141\n",
       "city         1142          None                None  Aba    Zurich\n",
       "population   1142  1908883.8870   3064085.951979667  825  37393129"
      ]
     },
     "execution_count": 4,
     "metadata": {},
     "output_type": "execute_result"
    }
   ],
   "source": [
    "city_df.describe().toPandas().transpose()"
   ]
  },
  {
   "cell_type": "code",
   "execution_count": 5,
   "metadata": {},
   "outputs": [
    {
     "data": {
      "text/html": [
       "<div>\n",
       "<style scoped>\n",
       "    .dataframe tbody tr th:only-of-type {\n",
       "        vertical-align: middle;\n",
       "    }\n",
       "\n",
       "    .dataframe tbody tr th {\n",
       "        vertical-align: top;\n",
       "    }\n",
       "\n",
       "    .dataframe thead th {\n",
       "        text-align: right;\n",
       "    }\n",
       "</style>\n",
       "<table border=\"1\" class=\"dataframe\">\n",
       "  <thead>\n",
       "    <tr style=\"text-align: right;\">\n",
       "      <th></th>\n",
       "      <th>0</th>\n",
       "      <th>1</th>\n",
       "      <th>2</th>\n",
       "      <th>3</th>\n",
       "      <th>4</th>\n",
       "    </tr>\n",
       "  </thead>\n",
       "  <tbody>\n",
       "    <tr>\n",
       "      <th>summary</th>\n",
       "      <td>count</td>\n",
       "      <td>mean</td>\n",
       "      <td>stddev</td>\n",
       "      <td>min</td>\n",
       "      <td>max</td>\n",
       "    </tr>\n",
       "    <tr>\n",
       "      <th>index</th>\n",
       "      <td>62</td>\n",
       "      <td>30.5000</td>\n",
       "      <td>18.041618552668716</td>\n",
       "      <td>0</td>\n",
       "      <td>61</td>\n",
       "    </tr>\n",
       "    <tr>\n",
       "      <th>museum_name</th>\n",
       "      <td>62</td>\n",
       "      <td>None</td>\n",
       "      <td>None</td>\n",
       "      <td>American Museum of Natural History</td>\n",
       "      <td>Zhejiang Museum</td>\n",
       "    </tr>\n",
       "    <tr>\n",
       "      <th>city</th>\n",
       "      <td>62</td>\n",
       "      <td>None</td>\n",
       "      <td>None</td>\n",
       "      <td>Amsterdam</td>\n",
       "      <td>Xi'an</td>\n",
       "    </tr>\n",
       "    <tr>\n",
       "      <th>nb_visitors</th>\n",
       "      <td>62</td>\n",
       "      <td>3532123.1129</td>\n",
       "      <td>1646830.9435785464</td>\n",
       "      <td>2054719</td>\n",
       "      <td>10200000</td>\n",
       "    </tr>\n",
       "    <tr>\n",
       "      <th>reported_year</th>\n",
       "      <td>62</td>\n",
       "      <td>2018.0000</td>\n",
       "      <td>0.0</td>\n",
       "      <td>2018</td>\n",
       "      <td>2018</td>\n",
       "    </tr>\n",
       "  </tbody>\n",
       "</table>\n",
       "</div>"
      ],
      "text/plain": [
       "                   0             1                   2  \\\n",
       "summary        count          mean              stddev   \n",
       "index             62       30.5000  18.041618552668716   \n",
       "museum_name       62          None                None   \n",
       "city              62          None                None   \n",
       "nb_visitors       62  3532123.1129  1646830.9435785464   \n",
       "reported_year     62     2018.0000                 0.0   \n",
       "\n",
       "                                                3                4  \n",
       "summary                                       min              max  \n",
       "index                                           0               61  \n",
       "museum_name    American Museum of Natural History  Zhejiang Museum  \n",
       "city                                    Amsterdam            Xi'an  \n",
       "nb_visitors                               2054719         10200000  \n",
       "reported_year                                2018             2018  "
      ]
     },
     "execution_count": 5,
     "metadata": {},
     "output_type": "execute_result"
    }
   ],
   "source": [
    "museum_df.describe().toPandas().transpose()"
   ]
  },
  {
   "cell_type": "code",
   "execution_count": 6,
   "metadata": {},
   "outputs": [],
   "source": [
    "joined_df = museum_df.join(city_df, on=['city'], how='left')\n",
    "museum_population_join_df = joined_df.select(joined_df.city, joined_df.nb_visitors.cast('int'), joined_df.population.cast('int'))"
   ]
  },
  {
   "cell_type": "markdown",
   "metadata": {},
   "source": [
    "### Outliers removal"
   ]
  },
  {
   "cell_type": "code",
   "execution_count": 7,
   "metadata": {},
   "outputs": [],
   "source": [
    "q1, q3 = museum_population_join_df.approxQuantile('nb_visitors', [0.25, 0.75], 0)\n",
    "iqr = q3 - q1\n",
    "lower_bound = q1 - (iqr * 1.5)\n",
    "upper_bound = q3 + (iqr * 1.5)"
   ]
  },
  {
   "cell_type": "code",
   "execution_count": 8,
   "metadata": {},
   "outputs": [],
   "source": [
    "import pyspark.sql.functions as f\n",
    "outlier_df = museum_population_join_df.select(\n",
    "    \"*\",\n",
    "    *[\n",
    "        f.when(\n",
    "            f.col('nb_visitors').between(lower_bound, upper_bound),\n",
    "            0\n",
    "        ).otherwise(1).alias('nb_visitors_out') \n",
    "    ]\n",
    ")\n",
    "museum_population_join_df = outlier_df.filter(outlier_df.nb_visitors_out == 0)"
   ]
  },
  {
   "cell_type": "code",
   "execution_count": 9,
   "metadata": {},
   "outputs": [],
   "source": [
    "vectorAssembler = VectorAssembler(inputCols = ['population'], outputCol = 'feature')\n",
    "museum_population_join_df = vectorAssembler.transform(museum_population_join_df)\n",
    "museum_population_join_df = museum_population_join_df.select(['feature', 'nb_visitors'])"
   ]
  },
  {
   "cell_type": "markdown",
   "metadata": {},
   "source": [
    "### Train process"
   ]
  },
  {
   "cell_type": "code",
   "execution_count": 10,
   "metadata": {},
   "outputs": [],
   "source": [
    "splits = museum_population_join_df.randomSplit([0.6, 0.4])\n",
    "train_df = splits[0]\n",
    "test_df = splits[1]"
   ]
  },
  {
   "cell_type": "code",
   "execution_count": 11,
   "metadata": {},
   "outputs": [
    {
     "name": "stdout",
     "output_type": "stream",
     "text": [
      "Coefficients: [-0.02174884957192353]\n",
      "Intercept: 3448920.66536425\n"
     ]
    }
   ],
   "source": [
    "lr = LinearRegression(featuresCol = 'feature', labelCol='nb_visitors', regParam=0.3, elasticNetParam=0.8)\n",
    "lr_model = lr.fit(train_df)\n",
    "print(\"Coefficients: \" + str(lr_model.coefficients))\n",
    "print(\"Intercept: \" + str(lr_model.intercept))"
   ]
  },
  {
   "cell_type": "code",
   "execution_count": 12,
   "metadata": {},
   "outputs": [
    {
     "name": "stdout",
     "output_type": "stream",
     "text": [
      "RMSE: 1137133.400240\n",
      "r2: 0.043799\n"
     ]
    }
   ],
   "source": [
    "trainingSummary = lr_model.summary\n",
    "print(\"RMSE: %f\" % trainingSummary.rootMeanSquaredError)\n",
    "print(\"r2: %f\" % trainingSummary.r2)"
   ]
  },
  {
   "cell_type": "code",
   "execution_count": 13,
   "metadata": {},
   "outputs": [
    {
     "name": "stdout",
     "output_type": "stream",
     "text": [
      "+-------+------------------+\n",
      "|summary|       nb_visitors|\n",
      "+-------+------------------+\n",
      "|  count|                34|\n",
      "|   mean|3203701.8235294116|\n",
      "| stddev| 1180373.026499763|\n",
      "|    min|           2054719|\n",
      "|    max|           6200000|\n",
      "+-------+------------------+\n",
      "\n"
     ]
    }
   ],
   "source": [
    "train_df.describe().show()"
   ]
  },
  {
   "cell_type": "code",
   "execution_count": 14,
   "metadata": {},
   "outputs": [
    {
     "name": "stdout",
     "output_type": "stream",
     "text": [
      "Root Mean Squared Error (RMSE) on test data = 932563\n"
     ]
    }
   ],
   "source": [
    "test_result = lr_model.evaluate(test_df)\n",
    "print(\"Root Mean Squared Error (RMSE) on test data = %g\" % test_result.rootMeanSquaredError)"
   ]
  },
  {
   "cell_type": "code",
   "execution_count": 15,
   "metadata": {},
   "outputs": [
    {
     "name": "stdout",
     "output_type": "stream",
     "text": [
      "numIterations: 7\n",
      "objectiveHistory: [0.5000000000000009, 0.49078592932447257, 0.4812719420559694, 0.47889344523884436, 0.4782988210345636, 0.4781501649834919, 0.47810061296646866]\n",
      "+-------------------+\n",
      "|          residuals|\n",
      "+-------------------+\n",
      "|-1209473.4266352807|\n",
      "|-1129239.0772382044|\n",
      "|  970568.9227617956|\n",
      "| 1366356.9227617956|\n",
      "| 2766356.9227617956|\n",
      "|-1202600.7155280309|\n",
      "|-1262771.8461738979|\n",
      "|-1123931.8461738979|\n",
      "|-1085009.0443875291|\n",
      "|  469275.2273683725|\n",
      "|-423804.39848704915|\n",
      "| -841578.6774097779|\n",
      "|-1140322.2361305375|\n",
      "|-411997.37058700155|\n",
      "|  593311.6294129984|\n",
      "| 1733742.4414802436|\n",
      "|-470228.22140825726|\n",
      "|-102943.02096548025|\n",
      "|  720996.9790345198|\n",
      "| 2489261.9790345198|\n",
      "+-------------------+\n",
      "only showing top 20 rows\n",
      "\n"
     ]
    }
   ],
   "source": [
    "print(\"numIterations: %d\" % trainingSummary.totalIterations)\n",
    "print(\"objectiveHistory: %s\" % str(trainingSummary.objectiveHistory))\n",
    "trainingSummary.residuals.show()"
   ]
  },
  {
   "cell_type": "code",
   "execution_count": 16,
   "metadata": {},
   "outputs": [
    {
     "name": "stdout",
     "output_type": "stream",
     "text": [
      "+------------------+-----------+-------------+\n",
      "|        prediction|nb_visitors|      feature|\n",
      "+------------------+-----------+-------------+\n",
      "|3448071.2205465194|    2100000|    [39057.0]|\n",
      "|3433643.0772382044|    2400000|   [702455.0]|\n",
      "|3433643.0772382044|    3800000|   [702455.0]|\n",
      "|3420035.2352891937|    2817386|  [1328136.0]|\n",
      "|3381922.8557832493|    3500000|  [3080522.0]|\n",
      "|3349360.4564553155|    3600000|  [4577723.0]|\n",
      "|3340878.1876337696|    2565474|  [4967733.0]|\n",
      "|3332522.2361305375|    4294000|  [5351935.0]|\n",
      "|3282712.7598547232|    4200000|  [7642147.0]|\n",
      "|3266257.5585197564|    2774103|  [8398748.0]|\n",
      "| 3256500.502629402|    3670000|  [8847372.0]|\n",
      "|3246569.0209654802|    2549833|  [9304016.0]|\n",
      "|3246569.0209654802|    3286000|  [9304016.0]|\n",
      "|3246569.0209654802|    5226000|  [9304016.0]|\n",
      "|3246569.0209654802|    5829000|  [9304016.0]|\n",
      "|3232227.0465991693|    3300000|  [9963452.0]|\n",
      "| 3209308.587394967|    2231000| [1.101723E7]|\n",
      "| 3209308.587394967|    3551544| [1.101723E7]|\n",
      "| 3176234.589878553|    2148538|[1.2537954E7]|\n",
      "|3103719.0319146067|    2240000|[1.5872179E7]|\n",
      "+------------------+-----------+-------------+\n",
      "only showing top 20 rows\n",
      "\n"
     ]
    }
   ],
   "source": [
    "predictions = lr_model.transform(test_df)\n",
    "predictions.select('prediction', 'nb_visitors', 'feature').show()"
   ]
  },
  {
   "cell_type": "code",
   "execution_count": null,
   "metadata": {},
   "outputs": [],
   "source": []
  }
 ],
 "metadata": {
  "kernelspec": {
   "display_name": "Python 3",
   "language": "python",
   "name": "python3"
  },
  "language_info": {
   "codemirror_mode": {
    "name": "ipython",
    "version": 3
   },
   "file_extension": ".py",
   "mimetype": "text/x-python",
   "name": "python",
   "nbconvert_exporter": "python",
   "pygments_lexer": "ipython3",
   "version": "3.7.6"
  }
 },
 "nbformat": 4,
 "nbformat_minor": 4
}
