{
 "cells": [
  {
   "cell_type": "code",
   "execution_count": 95,
   "metadata": {},
   "outputs": [],
   "source": [
    "import json\n",
    "import requests\n",
    "from bs4 import BeautifulSoup\n",
    "import pandas as pd"
   ]
  },
  {
   "cell_type": "code",
   "execution_count": 81,
   "metadata": {},
   "outputs": [],
   "source": [
    "MUSEUM_WIKI_URL = \"https://en.wikipedia.org/w/api.php?formatversion=2&action=parse&page=List_of_most_visited_museums&prop=text&format=json\"\n",
    "CITIES_POPULATION_URL = \"http://worldpopulationreview.com/world-cities/\""
   ]
  },
  {
   "cell_type": "code",
   "execution_count": 82,
   "metadata": {},
   "outputs": [],
   "source": [
    "wiki_response = requests.get(url=MUSEUM_WIKI_URL)\n",
    "museums_page = json.loads(wiki_response.text)\n",
    "museums_data_html = museums_page[\"parse\"][\"text\"]"
   ]
  },
  {
   "cell_type": "code",
   "execution_count": 83,
   "metadata": {},
   "outputs": [],
   "source": [
    "soup = BeautifulSoup(museums_data_html, 'html.parser')\n",
    "table = soup.find('table')\n",
    "museums_rows = []\n",
    "\n",
    "for row in table.findAll('tr'):\n",
    "    museum_row = []\n",
    "    for cell in row.findAll('td'):\n",
    "        if cell.find('a') and cell.find('a').get('title'):\n",
    "            if cell.find('a').get('class') and 'new' in cell.find('a').get('class'): # special case\n",
    "                museum_row.append(cell.text.replace('\\xa0[zh]', '').strip())\n",
    "                continue\n",
    "            if cell.find(id='cite_ref-16'): # special case\n",
    "                museum_row.append(cell.text.replace('[c]', '').strip())\n",
    "                continue\n",
    "            museum_row.append(cell.text.strip())\n",
    "        elif cell.find('a'):\n",
    "            museum_row.append(int(cell.text.strip()[:4]))\n",
    "        else:\n",
    "            museum_row.append(int(cell.text.strip().replace(',', '')))\n",
    "    if museum_row:\n",
    "        museums_rows.append(museum_row)"
   ]
  },
  {
   "cell_type": "code",
   "execution_count": 84,
   "metadata": {},
   "outputs": [],
   "source": [
    "population_response = requests.get(url=CITIES_POPULATION_URL)\n",
    "population_page = population_response.text\n",
    "soup = BeautifulSoup(population_page, 'html.parser')\n",
    "population_table = soup.find('table').find('tbody')\n",
    "\n",
    "city_populations = []\n",
    "for row in population_table:\n",
    "    info = [col.text.strip() for col in row.findAll('td')]\n",
    "    city_populations.append([info[1], int(info[3].replace(',', ''))])"
   ]
  },
  {
   "cell_type": "code",
   "execution_count": 85,
   "metadata": {},
   "outputs": [
    {
     "name": "stdout",
     "output_type": "stream",
     "text": [
      "{'Taichung', 'New York City', 'Vatican City', 'Saint Petersburg', 'Taipei', 'Oświęcim', 'Suzhou', 'Washington, D.C.', \"Xi'an\"}\n"
     ]
    }
   ],
   "source": [
    "museum_cities = set()\n",
    "for row in museums_rows:\n",
    "    museum_cities.add(row[1])\n",
    "    \n",
    "population_cities = set()\n",
    "for row in city_populations:\n",
    "    population_cities.add(row[0])\n",
    "    \n",
    "print(museum_cities-population_cities)"
   ]
  },
  {
   "cell_type": "code",
   "execution_count": 86,
   "metadata": {},
   "outputs": [],
   "source": [
    "city_populations.append(['Taichung', 2816667])\n",
    "city_populations.append(['New York City', 8398748])\n",
    "city_populations.append(['Vatican City', 825])\n",
    "city_populations.append(['Saint Petersburg', 5351935])\n",
    "city_populations.append(['Taipei', 2646204])\n",
    "city_populations.append(['Oświęcim', 39057])\n",
    "city_populations.append(['Suzhou', 10721700])\n",
    "city_populations.append(['Washington, D.C.', 702455])\n",
    "city_populations.append(['Xi\\'an', 12000600])"
   ]
  },
  {
   "cell_type": "code",
   "execution_count": 87,
   "metadata": {},
   "outputs": [],
   "source": [
    "MUSEUM_DB_PATH = 'sqlite:///museum.sqlite'\n",
    "CITY_DB_PATH = 'sqlite:///city.sqlite'"
   ]
  },
  {
   "cell_type": "code",
   "execution_count": 103,
   "metadata": {},
   "outputs": [],
   "source": [
    "from sqlalchemy import create_engine\n",
    "city_engine = create_engine(CITY_DB_PATH, echo=False)\n",
    "museum_engine = create_engine(MUSEUM_DB_PATH, echo=False)\n",
    "\n",
    "cities_df = pd.DataFrame(city_populations)\n",
    "cities_df.columns = ['city', 'population']\n",
    "\n",
    "museum_df = pd.DataFrame(museums_rows)\n",
    "museum_df.columns = ['museum_name', 'city', 'nb_visitors', 'reported_year']\n",
    "\n",
    "cities_df.to_sql('cities', con=city_engine)\n",
    "museum_df.to_sql('museums', con=museum_engine)"
   ]
  }
 ],
 "metadata": {
  "kernelspec": {
   "display_name": "Python 3",
   "language": "python",
   "name": "python3"
  },
  "language_info": {
   "codemirror_mode": {
    "name": "ipython",
    "version": 3
   },
   "file_extension": ".py",
   "mimetype": "text/x-python",
   "name": "python",
   "nbconvert_exporter": "python",
   "pygments_lexer": "ipython3",
   "version": "3.7.6"
  }
 },
 "nbformat": 4,
 "nbformat_minor": 4
}
